{
 "cells": [
  {
   "cell_type": "markdown",
   "id": "9356012c-cf4d-461c-aae2-f7b831faf77f",
   "metadata": {
    "tags": []
   },
   "source": [
    "# Table of Content\n",
    "\n",
    "- <a href='#Libs'> 1. Importing libraries and loading dataset </a>\n",
    "- <a href='#Duplicates'> 2. Removing duplicates </a>\n",
    "- <a href='#translation'> 3. Translating data into English </a>\n",
    "- <a href='#dtypes'> 4. Converting dtypes </a>\n",
    "- <a href='#validation'>5. Data validation </a>\n",
    "- <a href='#imputation'> 6. Missing Values Imputation </a>\n",
    "    - <a href='#univariate'> 6.1 Univariate Imputation </a>\n",
    "    - <a href='#multivariate'> 6.2 Multivariate Imputation </a>"
   ]
  },
  {
   "cell_type": "markdown",
   "id": "1289ba6d-9c26-4e2b-98d9-9a22dd80482e",
   "metadata": {},
   "source": [
    "<a id='Libs'></a>\n",
    "# 1. Importing libraries and loading dataset"
   ]
  },
  {
   "cell_type": "code",
   "execution_count": 2,
   "id": "085165d4-3b3a-4f4b-9634-ddeb3fbee7c4",
   "metadata": {},
   "outputs": [],
   "source": [
    "import pandas as pd\n",
    "import numpy as np\n",
    "import matplotlib.pyplot as plt\n",
    "import seaborn as sns\n",
    "import plotly.express as px\n",
    "import plotly.graph_objects as go\n",
    "from plotly.subplots import make_subplots\n",
    "import math\n",
    "import sys\n",
    "%matplotlib inline \n",
    "\n",
    "# Setting this option will print all collumns of a dataframe\n",
    "pd.set_option('display.max_columns', None)\n",
    "\n",
    "# Setting this option will print all rows of a dataframe\n",
    "pd.set_option('display.max_rows', None)\n",
    "\n",
    "np.set_printoptions(threshold=sys.maxsize)\n",
    "\n",
    "# disable SettingWithCopyWarning\n",
    "pd.options.mode.chained_assignment = None\n",
    "\n",
    "pd.set_option('future.no_silent_downcasting', True)"
   ]
  },
  {
   "cell_type": "code",
   "execution_count": 3,
   "id": "cb6c0b40-321c-41a4-9e95-564c57c66ff9",
   "metadata": {},
   "outputs": [],
   "source": [
    "cars = pd.read_csv(\"cars.csv\")"
   ]
  },
  {
   "cell_type": "code",
   "execution_count": 4,
   "id": "79fbc373-433e-4cf8-8476-cd6099301b7b",
   "metadata": {
    "tags": []
   },
   "outputs": [
    {
     "data": {
      "text/plain": [
       "(40297, 93)"
      ]
     },
     "execution_count": 4,
     "metadata": {},
     "output_type": "execute_result"
    }
   ],
   "source": [
    "cars.shape"
   ]
  },
  {
   "cell_type": "code",
   "execution_count": 5,
   "id": "0de645b4-9a6f-4646-93db-e142a898b3bd",
   "metadata": {
    "tags": []
   },
   "outputs": [
    {
     "data": {
      "text/plain": [
       "Index(['VIN', 'Názov', 'Značka', 'Model', 'URL', 'Kraj', 'Lokalita',\n",
       "       'Rok výroby', 'Stav', 'Najazdené', 'Palivo', 'Objem', 'Výkon',\n",
       "       'Prevodovka', 'Karoséria', 'Pohon', 'Dvere', 'Miest', 'Farba', 'ABS',\n",
       "       'Airbagy', 'Adaptívny tempomat', 'ADS', 'Alarm', 'ASR',\n",
       "       'Brzdový asistent', 'Centrálne zamykanie', 'Deaktivácia airbagov',\n",
       "       'DSC', 'EBD', 'EBV', 'ESP', 'Imobilizér', 'Isofix',\n",
       "       'Mechanické zabezpečenie', 'MSR', 'Natáčacie svetlomety',\n",
       "       'Parkovacia kamera', 'Systém kontroly tlaku v pneumatikách (TPMS)',\n",
       "       'Apple CarPlay', 'Android Auto', 'Welcome light', 'Autorádio',\n",
       "       'Adaptívny podvozok', 'Bezdotykové otváranie kufra',\n",
       "       'Bezkľúčové otváranie dverí', 'Bezkľúčové štartovanie',\n",
       "       'Bluetooth handsfree', 'CD menič', 'Diaľkové ovládanie zamykania',\n",
       "       'Dotykový displej', 'Elektrické okná', 'Elektrické sedadlá',\n",
       "       'Elektrické zrkadlá', 'Fólie', 'Klimatizácia',\n",
       "       'Klimatizovaná priehradka', 'Kožený interiér', 'Lakťová opierka',\n",
       "       'LED svetlomety', 'LED svietenie', 'Multifunkčný volant',\n",
       "       'Navigačný systém', 'Palubný počítač', 'Pamäťové sedačky',\n",
       "       'Parkovacie senzory', 'Parkovací asistent', 'Posilňovač riadenia',\n",
       "       'Sedadlá s masážnou funkciou', 'Tempomat', 'Tónované sklá',\n",
       "       'Vyhrievané predné sklo', 'Vyhrievané sedačky', 'Vyhrievané zrkadlá',\n",
       "       'Vyhrievaný volant', 'Vzduchové odpruženie podvozku',\n",
       "       'Asistent jazdných pruhov', 'Asistent rozjazdu do kopca',\n",
       "       'Kontrola mŕtveho uhla', 'Nočné videnie', 'Ostrekovače svetlometov',\n",
       "       'Stop&start systém', 'Strešné okno', 'Strešný nosič',\n",
       "       'Ťažné zariadenie', '1.majiteľ', 'Garážované', 'Nehavarované',\n",
       "       'ODO-Pass', 'Servisná knižka', 'Úplná servisná história',\n",
       "       'Vozidlo je v záruke', 'Cena'],\n",
       "      dtype='object')"
      ]
     },
     "execution_count": 5,
     "metadata": {},
     "output_type": "execute_result"
    }
   ],
   "source": [
    "cars.columns"
   ]
  },
  {
   "cell_type": "markdown",
   "id": "89183a8e-cfc5-4a06-881f-a17a4c06160a",
   "metadata": {},
   "source": [
    "<a id='Duplicates'></a>\n",
    "# 2. Removing duplicates"
   ]
  },
  {
   "cell_type": "code",
   "execution_count": 7,
   "id": "a37e22c2-4e51-422d-bf65-1f0f5e3c62df",
   "metadata": {},
   "outputs": [],
   "source": [
    "# drop duplicates\n",
    "cars.drop_duplicates(keep='first', inplace=True)"
   ]
  },
  {
   "cell_type": "markdown",
   "id": "9b740172-8815-4ad3-b9fa-2edef0cd42e0",
   "metadata": {},
   "source": [
    "<a id='translation'></a>\n",
    "# 3. Translating data into English"
   ]
  },
  {
   "cell_type": "markdown",
   "id": "f5f0831b-3005-4b95-8b6e-27b806eb079f",
   "metadata": {},
   "source": [
    "### Column Names"
   ]
  },
  {
   "cell_type": "code",
   "execution_count": 10,
   "id": "063aedf6-637c-4aaf-9746-154260c646f6",
   "metadata": {},
   "outputs": [],
   "source": [
    "cars = cars[[\"Názov\", \"Značka\", \"Model\", \"Kraj\", \"Rok výroby\", \"Najazdené\", \"Palivo\", \"Objem\", \"Výkon\", \"Prevodovka\", \"Karoséria\", \"Pohon\", \"Miest\", \"Farba\", \"Cena\"]]\n",
    "cars = cars.rename(columns={\"Názov\": \"Description\", \"Značka\": \"Brand\", \"Kraj\": \"Region\", \"Rok výroby\":\"Year\", \"Najazdené\":\"km\", \"Palivo\":\"Fuel\", \"Objem\":\"Engine Volume\", \"Výkon\":\"Power\", \"Prevodovka\":\"Transmission\", \n",
    "                     \"Karoséria\":\"Bodywork\", \"Pohon\":\"Drive\", \"Miest\":\"Seats\", \"Farba\":\"Colour\", \"Cena\":\"Price\"})"
   ]
  },
  {
   "cell_type": "code",
   "execution_count": 11,
   "id": "682fe2ea-4696-4bb7-b926-c253f36b6afa",
   "metadata": {
    "tags": []
   },
   "outputs": [
    {
     "data": {
      "text/html": [
       "<div>\n",
       "<style scoped>\n",
       "    .dataframe tbody tr th:only-of-type {\n",
       "        vertical-align: middle;\n",
       "    }\n",
       "\n",
       "    .dataframe tbody tr th {\n",
       "        vertical-align: top;\n",
       "    }\n",
       "\n",
       "    .dataframe thead th {\n",
       "        text-align: right;\n",
       "    }\n",
       "</style>\n",
       "<table border=\"1\" class=\"dataframe\">\n",
       "  <thead>\n",
       "    <tr style=\"text-align: right;\">\n",
       "      <th></th>\n",
       "      <th>Description</th>\n",
       "      <th>Brand</th>\n",
       "      <th>Model</th>\n",
       "      <th>Region</th>\n",
       "      <th>Year</th>\n",
       "      <th>km</th>\n",
       "      <th>Fuel</th>\n",
       "      <th>Engine Volume</th>\n",
       "      <th>Power</th>\n",
       "      <th>Transmission</th>\n",
       "      <th>Bodywork</th>\n",
       "      <th>Drive</th>\n",
       "      <th>Seats</th>\n",
       "      <th>Colour</th>\n",
       "      <th>Price</th>\n",
       "    </tr>\n",
       "  </thead>\n",
       "  <tbody>\n",
       "    <tr>\n",
       "      <th>0</th>\n",
       "      <td>Renault 11 GTL B</td>\n",
       "      <td>Renault</td>\n",
       "      <td>11</td>\n",
       "      <td>ZA kraj</td>\n",
       "      <td>8/1984</td>\n",
       "      <td>104 731</td>\n",
       "      <td>Benzín</td>\n",
       "      <td>1397 cm³ (1.4 l)</td>\n",
       "      <td>43 kw (58 PS)</td>\n",
       "      <td>5-st. manuálna</td>\n",
       "      <td>Liftback</td>\n",
       "      <td>Predný</td>\n",
       "      <td>5-miestne</td>\n",
       "      <td>Modrá metalíza</td>\n",
       "      <td>7 900 €</td>\n",
       "    </tr>\n",
       "    <tr>\n",
       "      <th>1</th>\n",
       "      <td>Audi S5/S5 Sportback S5  Lift, B&amp;O, Full LED M...</td>\n",
       "      <td>Audi</td>\n",
       "      <td>S5/S5</td>\n",
       "      <td>KE kraj</td>\n",
       "      <td>8/2020</td>\n",
       "      <td>67 952</td>\n",
       "      <td>Diesel</td>\n",
       "      <td>2967 cm³ (3 l)</td>\n",
       "      <td>255 kw (347 PS)</td>\n",
       "      <td>8-st. automatická</td>\n",
       "      <td>Liftback</td>\n",
       "      <td>4x4</td>\n",
       "      <td>5-miestne</td>\n",
       "      <td>Čierna metalíza</td>\n",
       "      <td>54 999 €</td>\n",
       "    </tr>\n",
       "    <tr>\n",
       "      <th>2</th>\n",
       "      <td>Dacia Sandero Essential ECO-G 100</td>\n",
       "      <td>Dacia</td>\n",
       "      <td>Sandero</td>\n",
       "      <td>BA kraj</td>\n",
       "      <td>2023</td>\n",
       "      <td>10</td>\n",
       "      <td>LPG + benzín</td>\n",
       "      <td>998 cm³ (1 l)</td>\n",
       "      <td>100 kw (136 PS)</td>\n",
       "      <td>5-st. manuálna</td>\n",
       "      <td>Liftback</td>\n",
       "      <td>Predný</td>\n",
       "      <td>5-miestne</td>\n",
       "      <td>Biela</td>\n",
       "      <td>13 250 €</td>\n",
       "    </tr>\n",
       "    <tr>\n",
       "      <th>3</th>\n",
       "      <td>Ford Focus 1.0 EcoBoost Titanium</td>\n",
       "      <td>Ford</td>\n",
       "      <td>Focus</td>\n",
       "      <td>KE kraj</td>\n",
       "      <td>2020</td>\n",
       "      <td>72 000</td>\n",
       "      <td>Benzín</td>\n",
       "      <td>998 cm³ (1 l)</td>\n",
       "      <td>74 kw (101 PS)</td>\n",
       "      <td>6-st. manuálna</td>\n",
       "      <td>Liftback</td>\n",
       "      <td>Predný</td>\n",
       "      <td>5-miestne</td>\n",
       "      <td>Čierna metalíza</td>\n",
       "      <td>11 990 €</td>\n",
       "    </tr>\n",
       "    <tr>\n",
       "      <th>4</th>\n",
       "      <td>Škoda Octavia 1.5 TSI ACT Sportline</td>\n",
       "      <td>Škoda</td>\n",
       "      <td>Octavia</td>\n",
       "      <td>BB kraj</td>\n",
       "      <td>2024</td>\n",
       "      <td>32</td>\n",
       "      <td>Benzín</td>\n",
       "      <td>1498 cm³ (1.5 l)</td>\n",
       "      <td>110 kw (150 PS)</td>\n",
       "      <td>6-st. manuálna</td>\n",
       "      <td>Liftback</td>\n",
       "      <td>Predný</td>\n",
       "      <td>5-miestne</td>\n",
       "      <td>Zelená sv.</td>\n",
       "      <td>31 914 €</td>\n",
       "    </tr>\n",
       "  </tbody>\n",
       "</table>\n",
       "</div>"
      ],
      "text/plain": [
       "                                         Description    Brand    Model  \\\n",
       "0                                 Renault 11 GTL B    Renault       11   \n",
       "1  Audi S5/S5 Sportback S5  Lift, B&O, Full LED M...     Audi    S5/S5   \n",
       "2                Dacia Sandero Essential ECO-G 100      Dacia  Sandero   \n",
       "3                 Ford Focus 1.0 EcoBoost Titanium       Ford    Focus   \n",
       "4              Škoda Octavia 1.5 TSI ACT Sportline      Škoda  Octavia   \n",
       "\n",
       "    Region    Year       km          Fuel     Engine Volume            Power  \\\n",
       "0  ZA kraj  8/1984  104 731        Benzín  1397 cm³ (1.4 l)    43 kw (58 PS)   \n",
       "1  KE kraj  8/2020   67 952        Diesel    2967 cm³ (3 l)  255 kw (347 PS)   \n",
       "2  BA kraj    2023       10  LPG + benzín     998 cm³ (1 l)  100 kw (136 PS)   \n",
       "3  KE kraj    2020   72 000        Benzín     998 cm³ (1 l)   74 kw (101 PS)   \n",
       "4  BB kraj    2024       32        Benzín  1498 cm³ (1.5 l)  110 kw (150 PS)   \n",
       "\n",
       "        Transmission  Bodywork   Drive      Seats           Colour     Price  \n",
       "0     5-st. manuálna  Liftback  Predný  5-miestne   Modrá metalíza   7 900 €  \n",
       "1  8-st. automatická  Liftback     4x4  5-miestne  Čierna metalíza  54 999 €  \n",
       "2     5-st. manuálna  Liftback  Predný  5-miestne            Biela  13 250 €  \n",
       "3     6-st. manuálna  Liftback  Predný  5-miestne  Čierna metalíza  11 990 €  \n",
       "4     6-st. manuálna  Liftback  Predný  5-miestne       Zelená sv.  31 914 €  "
      ]
     },
     "execution_count": 11,
     "metadata": {},
     "output_type": "execute_result"
    }
   ],
   "source": [
    "cars.head()"
   ]
  },
  {
   "cell_type": "markdown",
   "id": "81265770-ced2-49ba-941b-67394741b636",
   "metadata": {},
   "source": [
    "### Region"
   ]
  },
  {
   "cell_type": "code",
   "execution_count": 13,
   "id": "36f2f4bc-df61-4ceb-b89a-694157b75999",
   "metadata": {
    "tags": []
   },
   "outputs": [],
   "source": [
    "regions = {\"BA\", \"ZA\", \"TN\", \"KE\", \"NR\", \"BB\", \"TT\", \"PO\", \"CZ\"}\n",
    "cars[\"Region\"]=cars[\"Region\"].replace(to_replace={\"BA kraj\": \"BA\",\n",
    "                                             \"ZA kraj\": \"ZA\",\n",
    "                                             \"TN kraj\": \"TN\",\n",
    "                                             \"KE kraj\": \"KE\",\n",
    "                                             \"NR kraj\": \"NR\",\n",
    "                                             \"BB kraj\": \"BB\",\n",
    "                                             \"TT kraj\": \"TT\",\n",
    "                                             \"PO kraj\": \"PO\"})\n",
    "cars[\"Region\"]=cars[\"Region\"].replace(to_replace=r'^CZ.*', value='CZ', regex=True)\n",
    "cars = cars[cars.Region.isin(regions)]"
   ]
  },
  {
   "cell_type": "markdown",
   "id": "184003bd-13e4-4c27-914c-5df33b9c1edd",
   "metadata": {},
   "source": [
    "### Year"
   ]
  },
  {
   "cell_type": "code",
   "execution_count": 15,
   "id": "509c7482-98ba-43bf-bae8-e5a054dddd81",
   "metadata": {},
   "outputs": [],
   "source": [
    "cars[\"Year\"] = [str(year)[-4:] if year else np.nan for year in cars[\"Year\"]]\n",
    "cars['Year'] = cars['Year'].replace('nan', np.NaN)"
   ]
  },
  {
   "cell_type": "markdown",
   "id": "649c309d-dfe5-4177-b0c1-dcddc3035091",
   "metadata": {},
   "source": [
    "### km"
   ]
  },
  {
   "cell_type": "code",
   "execution_count": 17,
   "id": "90a472d0-4e24-415d-9a9f-c43a9ac7d7d4",
   "metadata": {
    "tags": []
   },
   "outputs": [],
   "source": [
    "cars[\"km\"]=cars[\"km\"].replace(to_replace=r' ', value='',regex=True)"
   ]
  },
  {
   "cell_type": "markdown",
   "id": "6c60ab1f-4dbe-44b9-8615-db769000718b",
   "metadata": {},
   "source": [
    "### Fuel"
   ]
  },
  {
   "cell_type": "code",
   "execution_count": 19,
   "id": "faf17df6-7dcc-460a-9476-25fabb5ebf92",
   "metadata": {
    "tags": []
   },
   "outputs": [],
   "source": [
    "cars[\"Fuel\"]=cars[\"Fuel\"].replace(to_replace={\"Benzín\": \"Petrol\",\n",
    "                                             \"Elektromotor\": \"Electric\",\n",
    "                                             \"LPG + benzín\": \"LPG + Petrol\",\n",
    "                                             \"Elektrina - diesel\": \"Electric - diesel\"})"
   ]
  },
  {
   "cell_type": "markdown",
   "id": "394efabb-7a18-4e24-9b51-cfe5690e16ae",
   "metadata": {},
   "source": [
    "### Engine Volume (l)"
   ]
  },
  {
   "cell_type": "code",
   "execution_count": 21,
   "id": "d407ada7-4631-4dbd-949d-48d0ca031437",
   "metadata": {
    "tags": []
   },
   "outputs": [],
   "source": [
    "cars[\"Engine Volume\"]=cars[\"Engine Volume\"].replace(to_replace=r'.*[(]', value='', regex=True).replace(to_replace=r' l[)]', value='', regex=True)"
   ]
  },
  {
   "cell_type": "markdown",
   "id": "e83452e4-af0f-46be-8157-389675c93705",
   "metadata": {},
   "source": [
    "### Power (kW)"
   ]
  },
  {
   "cell_type": "code",
   "execution_count": 23,
   "id": "14a017b9-68f1-4d53-9c39-c680ac00d486",
   "metadata": {
    "tags": []
   },
   "outputs": [],
   "source": [
    "cars[\"Power\"]=cars[\"Power\"].replace(to_replace=r' kw.*', value='', regex=True)"
   ]
  },
  {
   "cell_type": "markdown",
   "id": "37c112df-75ce-4903-8db6-1e3a95604b06",
   "metadata": {},
   "source": [
    "### Transmission"
   ]
  },
  {
   "cell_type": "code",
   "execution_count": 25,
   "id": "d50dc11f-c1c9-405e-bd78-4706b4f5d037",
   "metadata": {
    "tags": []
   },
   "outputs": [],
   "source": [
    "cars[\"Transmission\"]=cars[\"Transmission\"].replace(to_replace=r'.*[Aa]utomat.*', value='automatic',regex=True)\n",
    "cars[\"Transmission\"]=cars[\"Transmission\"].replace(to_replace=r'.*[Mm]anuál.*', value='manual',regex=True)"
   ]
  },
  {
   "cell_type": "markdown",
   "id": "fe719828-5667-4b03-b892-2f2cee2ab631",
   "metadata": {
    "tags": []
   },
   "source": [
    "### Bodywork"
   ]
  },
  {
   "cell_type": "code",
   "execution_count": 27,
   "id": "eb9dcb1f-c928-4344-8917-670e9e591aba",
   "metadata": {
    "tags": []
   },
   "outputs": [
    {
     "data": {
      "text/plain": [
       "array(['Liftback', 'Cabrio', 'Iné', 'Limuzína', 'Pick up',\n",
       "       'Sedan / Liftback', 'Sedan', 'Van', 'Coupé', 'MPV',\n",
       "       'SUV / Off-road', 'Combi'], dtype=object)"
      ]
     },
     "execution_count": 27,
     "metadata": {},
     "output_type": "execute_result"
    }
   ],
   "source": [
    "cars[\"Bodywork\"].unique()"
   ]
  },
  {
   "cell_type": "code",
   "execution_count": 28,
   "id": "bb70dfe0-92af-4e5e-ab4e-b3ffe85ae7b9",
   "metadata": {
    "tags": []
   },
   "outputs": [],
   "source": [
    "cars[\"Bodywork\"]=cars[\"Bodywork\"].replace(to_replace={\"Iné\": \"Other\",\n",
    "                                             \"Limuzína\": \"Limousine\"})"
   ]
  },
  {
   "cell_type": "markdown",
   "id": "fded6791-a350-4da4-b00d-0781052cc8fd",
   "metadata": {},
   "source": [
    "### Drive"
   ]
  },
  {
   "cell_type": "code",
   "execution_count": 30,
   "id": "64b737fe-1b4e-4dbb-8ee3-c109bd8ef4ca",
   "metadata": {
    "tags": []
   },
   "outputs": [],
   "source": [
    "cars[\"Drive\"]=cars[\"Drive\"].replace(to_replace={\"Iné\": \"Other\",\n",
    "                                             \"Predný\": \"Front\",\n",
    "                                             \"Zadný\" : \"Rear\" })"
   ]
  },
  {
   "cell_type": "markdown",
   "id": "957bbc25-919b-48cf-9e32-0662bc17c60f",
   "metadata": {},
   "source": [
    "### Seats "
   ]
  },
  {
   "cell_type": "code",
   "execution_count": 32,
   "id": "3371513f-1fb5-497a-ad9c-6dd914c3943d",
   "metadata": {
    "tags": []
   },
   "outputs": [
    {
     "data": {
      "text/plain": [
       "Seats\n",
       "5-miestne     29369\n",
       "7-miestne      2098\n",
       "4-miestne      1750\n",
       "3-miestne       553\n",
       "2-miestne       452\n",
       "6-miestne       256\n",
       "8-miestne       222\n",
       "9-miestne       195\n",
       "10-miestne        1\n",
       "Name: count, dtype: int64"
      ]
     },
     "execution_count": 32,
     "metadata": {},
     "output_type": "execute_result"
    }
   ],
   "source": [
    "cars[\"Seats\"].value_counts()"
   ]
  },
  {
   "cell_type": "code",
   "execution_count": 33,
   "id": "762805f1-f7a7-4386-a291-ad7a749f35dd",
   "metadata": {
    "tags": []
   },
   "outputs": [],
   "source": [
    "cars[\"Seats\"]=cars[\"Seats\"].replace(to_replace=r'-miestne.*', value='',regex=True)"
   ]
  },
  {
   "cell_type": "markdown",
   "id": "b2e5c4bb-7079-49b8-b0a7-d09da083a530",
   "metadata": {},
   "source": [
    "### Colour"
   ]
  },
  {
   "cell_type": "code",
   "execution_count": 35,
   "id": "bdd21a07-9216-4eeb-90a8-2e525170cd21",
   "metadata": {
    "tags": []
   },
   "outputs": [],
   "source": [
    "cars[\"Colour\"]=cars[\"Colour\"].replace(to_replace={\"^Biela.*\" : \"White\",\n",
    "                                                      \".*White.*\" : \"White\",\n",
    "                                                      \"^Bieložltá.*\": \"White\",\n",
    "                                                      \"^[Čč]ierna.*\" : \"Black\",\n",
    "                                                      \".*[Bb]lack.*\" : \"Black\",\n",
    "                                                      \".*BLACK.*\": \"Black\",\n",
    "                                                      \"^[šŠ]edá.*\" : \"Grey\",\n",
    "                                                      \".*[gG]r[ea]y.*\" : \"Grey\",\n",
    "                                                      \".*[Ss]ivá.*\" : \"Grey\",\n",
    "                                                      \".*GREY.*\": \"Grey\",\n",
    "                                                      \"Kaikoura Stone\": \"Grey\",\n",
    "                                                      \"^[mM]odrá.*\": \"Blue\",\n",
    "                                                      \".*Blue.*\": \"Blue\",\n",
    "                                                      \"^[Mm]odrošedá.*\": \"Blue-Gray\",\n",
    "                                                      \"^[Mm]odrozelená.*\": \"Blue-Green\",\n",
    "                                                      \"^[Zz]elenošedá.*\" : \"Greenish Gray\",\n",
    "                                                      \"[Ss]ivozelená.*\" : \"Greenish Gray\",\n",
    "                                                      \"^[Ss]trieborná.*\": \"Silver\",\n",
    "                                                      \".*[Ss]ilver.*\" : \"Silver\",\n",
    "                                                      \"^[Čč]ervená.*\" : \"Red\",\n",
    "                                                      \".*Red.*\" : \"Red\",\n",
    "                                                      \"^Vínová.*\" : \"Burgundy\",\n",
    "                                                      \"^bordová.*\" : \"Burgundy\",\n",
    "                                                      \"^Hnedá.*\" : \"Brown\", \n",
    "                                                      \"Lantau Bronze\" : \"Brown\", \n",
    "                                                      \"^Zelená.*\" : \"Green\",\n",
    "                                                      \".*Green.*\" : \"Green\",\n",
    "                                                      \"^Oranžová.*\" : \"Orange\",\n",
    "                                                      \"^Béžová.*\" : \"Beige\", \n",
    "                                                      \"^Zlatá.*\" : \"Gold\", \n",
    "                                                      \"^Žlt[áo].*\" : \"Yellow\",\n",
    "                                                      \"Splash Lemon\" : \"Yellow\",\n",
    "                                                      \"^Fialová.*\" : \"Purple\",\n",
    "                                                      \"Barossa\" : \"Purple\",\n",
    "                                                      \"^Ružová.*\" : \"Pink\",\n",
    "                                                      \"^metalíza\" : np.nan,\n",
    "                                                      \"259 metalíza\" : np.nan,\n",
    "                                                      \"^Iné.*\" : np.nan,\n",
    "                                                      },regex=True)"
   ]
  },
  {
   "cell_type": "markdown",
   "id": "976fbbe5-20d2-4db3-a9e9-aa522fea9de0",
   "metadata": {},
   "source": [
    "### Price (€)"
   ]
  },
  {
   "cell_type": "code",
   "execution_count": 37,
   "id": "82f488bd-40eb-42be-bcaf-2271013e8946",
   "metadata": {
    "tags": []
   },
   "outputs": [],
   "source": [
    "cars[\"Price\"]=cars[\"Price\"].replace(to_replace=r' €', value='',regex=True).replace(to_replace=r',.*', value='',regex=True).replace(to_replace=r' ', value='',regex=True)"
   ]
  },
  {
   "cell_type": "code",
   "execution_count": 38,
   "id": "f9b8dd40-d90e-4755-987e-db56f0223cd5",
   "metadata": {
    "tags": []
   },
   "outputs": [],
   "source": [
    "# drop rows where price is null or contains value \"Dohodou\"\n",
    "cars.dropna(subset=['Price'], axis='index', how='any', inplace=True)\n",
    "cars = cars.drop(cars[cars['Price'] == 'Dohodou'].index)"
   ]
  },
  {
   "cell_type": "code",
   "execution_count": 39,
   "id": "793735a2-e9d6-45b0-a33d-5ea948e8e8f7",
   "metadata": {
    "tags": []
   },
   "outputs": [
    {
     "data": {
      "text/html": [
       "<div>\n",
       "<style scoped>\n",
       "    .dataframe tbody tr th:only-of-type {\n",
       "        vertical-align: middle;\n",
       "    }\n",
       "\n",
       "    .dataframe tbody tr th {\n",
       "        vertical-align: top;\n",
       "    }\n",
       "\n",
       "    .dataframe thead th {\n",
       "        text-align: right;\n",
       "    }\n",
       "</style>\n",
       "<table border=\"1\" class=\"dataframe\">\n",
       "  <thead>\n",
       "    <tr style=\"text-align: right;\">\n",
       "      <th></th>\n",
       "      <th>Description</th>\n",
       "      <th>Brand</th>\n",
       "      <th>Model</th>\n",
       "      <th>Region</th>\n",
       "      <th>Year</th>\n",
       "      <th>km</th>\n",
       "      <th>Fuel</th>\n",
       "      <th>Engine Volume</th>\n",
       "      <th>Power</th>\n",
       "      <th>Transmission</th>\n",
       "      <th>Bodywork</th>\n",
       "      <th>Drive</th>\n",
       "      <th>Seats</th>\n",
       "      <th>Colour</th>\n",
       "      <th>Price</th>\n",
       "    </tr>\n",
       "  </thead>\n",
       "  <tbody>\n",
       "    <tr>\n",
       "      <th>0</th>\n",
       "      <td>Renault 11 GTL B</td>\n",
       "      <td>Renault</td>\n",
       "      <td>11</td>\n",
       "      <td>ZA</td>\n",
       "      <td>1984</td>\n",
       "      <td>104731</td>\n",
       "      <td>Petrol</td>\n",
       "      <td>1.4</td>\n",
       "      <td>43</td>\n",
       "      <td>manual</td>\n",
       "      <td>Liftback</td>\n",
       "      <td>Front</td>\n",
       "      <td>5</td>\n",
       "      <td>Blue</td>\n",
       "      <td>7900</td>\n",
       "    </tr>\n",
       "    <tr>\n",
       "      <th>1</th>\n",
       "      <td>Audi S5/S5 Sportback S5  Lift, B&amp;O, Full LED M...</td>\n",
       "      <td>Audi</td>\n",
       "      <td>S5/S5</td>\n",
       "      <td>KE</td>\n",
       "      <td>2020</td>\n",
       "      <td>67952</td>\n",
       "      <td>Diesel</td>\n",
       "      <td>3</td>\n",
       "      <td>255</td>\n",
       "      <td>automatic</td>\n",
       "      <td>Liftback</td>\n",
       "      <td>4x4</td>\n",
       "      <td>5</td>\n",
       "      <td>Black</td>\n",
       "      <td>54999</td>\n",
       "    </tr>\n",
       "    <tr>\n",
       "      <th>2</th>\n",
       "      <td>Dacia Sandero Essential ECO-G 100</td>\n",
       "      <td>Dacia</td>\n",
       "      <td>Sandero</td>\n",
       "      <td>BA</td>\n",
       "      <td>2023</td>\n",
       "      <td>10</td>\n",
       "      <td>LPG + Petrol</td>\n",
       "      <td>1</td>\n",
       "      <td>100</td>\n",
       "      <td>manual</td>\n",
       "      <td>Liftback</td>\n",
       "      <td>Front</td>\n",
       "      <td>5</td>\n",
       "      <td>White</td>\n",
       "      <td>13250</td>\n",
       "    </tr>\n",
       "    <tr>\n",
       "      <th>3</th>\n",
       "      <td>Ford Focus 1.0 EcoBoost Titanium</td>\n",
       "      <td>Ford</td>\n",
       "      <td>Focus</td>\n",
       "      <td>KE</td>\n",
       "      <td>2020</td>\n",
       "      <td>72000</td>\n",
       "      <td>Petrol</td>\n",
       "      <td>1</td>\n",
       "      <td>74</td>\n",
       "      <td>manual</td>\n",
       "      <td>Liftback</td>\n",
       "      <td>Front</td>\n",
       "      <td>5</td>\n",
       "      <td>Black</td>\n",
       "      <td>11990</td>\n",
       "    </tr>\n",
       "    <tr>\n",
       "      <th>4</th>\n",
       "      <td>Škoda Octavia 1.5 TSI ACT Sportline</td>\n",
       "      <td>Škoda</td>\n",
       "      <td>Octavia</td>\n",
       "      <td>BB</td>\n",
       "      <td>2024</td>\n",
       "      <td>32</td>\n",
       "      <td>Petrol</td>\n",
       "      <td>1.5</td>\n",
       "      <td>110</td>\n",
       "      <td>manual</td>\n",
       "      <td>Liftback</td>\n",
       "      <td>Front</td>\n",
       "      <td>5</td>\n",
       "      <td>Green</td>\n",
       "      <td>31914</td>\n",
       "    </tr>\n",
       "  </tbody>\n",
       "</table>\n",
       "</div>"
      ],
      "text/plain": [
       "                                         Description    Brand    Model Region  \\\n",
       "0                                 Renault 11 GTL B    Renault       11     ZA   \n",
       "1  Audi S5/S5 Sportback S5  Lift, B&O, Full LED M...     Audi    S5/S5     KE   \n",
       "2                Dacia Sandero Essential ECO-G 100      Dacia  Sandero     BA   \n",
       "3                 Ford Focus 1.0 EcoBoost Titanium       Ford    Focus     KE   \n",
       "4              Škoda Octavia 1.5 TSI ACT Sportline      Škoda  Octavia     BB   \n",
       "\n",
       "   Year      km          Fuel Engine Volume Power Transmission  Bodywork  \\\n",
       "0  1984  104731        Petrol           1.4    43       manual  Liftback   \n",
       "1  2020   67952        Diesel             3   255    automatic  Liftback   \n",
       "2  2023      10  LPG + Petrol             1   100       manual  Liftback   \n",
       "3  2020   72000        Petrol             1    74       manual  Liftback   \n",
       "4  2024      32        Petrol           1.5   110       manual  Liftback   \n",
       "\n",
       "   Drive Seats Colour  Price  \n",
       "0  Front     5   Blue   7900  \n",
       "1    4x4     5  Black  54999  \n",
       "2  Front     5  White  13250  \n",
       "3  Front     5  Black  11990  \n",
       "4  Front     5  Green  31914  "
      ]
     },
     "execution_count": 39,
     "metadata": {},
     "output_type": "execute_result"
    }
   ],
   "source": [
    "cars.head()"
   ]
  },
  {
   "cell_type": "markdown",
   "id": "76741776-8a25-4187-87fd-fe5066fdfbce",
   "metadata": {},
   "source": [
    "<a id='dtypes'></a>\n",
    "# 4. Converting dtypes "
   ]
  },
  {
   "cell_type": "code",
   "execution_count": 41,
   "id": "286e12a6-8f15-49ed-8edf-2ac9c2a4cb7f",
   "metadata": {
    "tags": []
   },
   "outputs": [],
   "source": [
    "cars['Year'] = cars['Year'].astype(pd.Int64Dtype())\n",
    "cars['km'] = cars['km'].astype(pd.Int64Dtype())\n",
    "cars['Engine Volume'] = cars['Engine Volume'].astype(pd.Float64Dtype())\n",
    "cars['Power'] = cars['Power'].astype(pd.Float64Dtype())\n",
    "cars['Seats'] = cars['Seats'].astype(pd.Int64Dtype())\n",
    "cars['Price'] = cars['Price'].astype(pd.Float64Dtype())"
   ]
  },
  {
   "cell_type": "markdown",
   "id": "a3d32728-019d-4e5f-bd15-c3b4c06b25ca",
   "metadata": {},
   "source": [
    "<a id='validation'></a>\n",
    "# 5. Data validation"
   ]
  },
  {
   "cell_type": "markdown",
   "id": "a41d1717-2ac9-4874-a3b1-49e74a3f625a",
   "metadata": {},
   "source": [
    "## 5.1 Brands"
   ]
  },
  {
   "cell_type": "code",
   "execution_count": 44,
   "id": "3661254f-7edf-4d71-9435-21c7e1f550dd",
   "metadata": {
    "tags": []
   },
   "outputs": [],
   "source": [
    "#cars[\"Brand\"].value_counts()"
   ]
  },
  {
   "cell_type": "code",
   "execution_count": 45,
   "id": "8c85be3b-3785-4c45-b824-3866b7a3337f",
   "metadata": {},
   "outputs": [],
   "source": [
    "cars[\"Brand\"]=cars[\"Brand\"].replace(to_replace={\"Skoda\": \"Škoda\", \"ŠKODA\": \"Škoda\", \"SKODA\": \"Škoda\",\n",
    "                                                 \"Bmw\": \"BMW\", \"bmw\": \"BMW\", \n",
    "                                                 \"VW\": \"Volkswagen\", \"VOLKSWAGEN\": \"Volkswagen\", \"VOLKSVAGEN\": \"Volkswagen\", \n",
    "                                                  \"AUDI\": \"Audi\",\n",
    "                                                  \"Mercedes\": \"Mercedes-Benz\", \"MERCEDES-BENZ\": \"Mercedes-Benz\", \"Mercedes&#45;Benz\": \"Mercedes-Benz\",\n",
    "                                                  \"FORD\": \"Ford\", \"ford\": \"Ford\",\n",
    "                                                  \"VOLVO\": \"Volvo\",\n",
    "                                                  \"PEUGEOT\": \"Peugeot\",\n",
    "                                                  \"TOYOTA\": \"Toyota\", \"toyota\": \"Toyota\",\n",
    "                                                  \"HYUNDAI\": \"Hyundai\",\n",
    "                                                  \"OPEL\": \"Opel\",\n",
    "                                                  \"KIA\": \"Kia\",\n",
    "                                                  \"RENAULT\": \"Renault\", \n",
    "                                                  \"SEAT\": \"Seat\", \"seat\": \"Seat\",\n",
    "                                                  \"Citroen\": \"Citroën\",\n",
    "                                                  \"MAZDA\": \"Mazda\", \"mazda\": \"Mazda\",\n",
    "                                                  \"JEEP\": \"Jeep\",\n",
    "                                                  \"NISSAN\": \"Nissan\", \n",
    "                                                  \"FIAT\": \"Fiat\",\n",
    "                                                  \"HONDA\": \"Honda\",\n",
    "                                                  \"LEXUS\": \"Lexus\", \n",
    "                                                  \"TESLA\": \"Tesla\",\n",
    "                                                  \"MG\": \"Mg\",\n",
    "                                                  \"CUPRA\": \"Cupra\",\n",
    "                                                  \"Alfa\": \"Alfa Romeo\",\n",
    "                                                  \"MINI\": \"Mini\",\n",
    "                                                  \"Land\": \"Land Rover\",\n",
    "                                                  \"Aston\": \"Aston Martin\",\n",
    "                                                  \"Rolls\": \"Rolls Royce\",\n",
    "                                                 })"
   ]
  },
  {
   "cell_type": "code",
   "execution_count": 46,
   "id": "d103893e-be91-4f5b-a56c-d645b41bd0fd",
   "metadata": {
    "tags": []
   },
   "outputs": [],
   "source": [
    "# Models for each brand\n",
    "brands_models = {\"Abarth\": [\"500\",\"500\",\"595\",\"595C\",\"124 spider\",\"695\"],\n",
    "                 \"Alfa Romeo\": [\"4C\", \"8C\", \"33\", \"75\", \"90\", \"145\", \"146\", \"147\", \"155\", \"156\", \"159\", \"164\", \"166\", \"Alfetta\", \"Brera\", \"Spider\", \"Crosswagon\", \"Giulia\", \"Giulietta\", \n",
    "                                \"MiTo\", \"Tonale\", \"Stelvio\", \"Testa Fissa\", \"GT\"], \n",
    "                 \"Aston Martin\" : [\"DB7\", \"DB9\", \"DBX\", \"Rapide\", \"V8 Vantage\", \"Vanquish\", \"Virage Volante\"],\n",
    "                 \"Audi\": [\"80\", \"90\", \"100\",\"200\",\"5000\", \"A1\", \"A2\",\"A3\",\"A4\",\"A5\",\"A6\",\"A7\",\"A8\",\"E-tron\",\"Q2\",\"Q3\",\"Q4\",\"Q5\",\"Q7\",\"Q8\",\"R8\",\"RS\",\"RS2\",\"RS3\",\"RS4\",\"RS5\",\"RS6\",\"RS7\",\"RSQ3\",\n",
    "                          \"RSQ8\",\"S1\",\"S2\",\"S3\",\"S4\",\"S5\",\"S6\",\"S7\",\"S8\",\"SQ5\",\"SQ7\",\"SQ8\",\"UR Quattro\",\"V8\", \"TT\"],\n",
    "                 \"Austin\": [\"Allegro\",\"FX4\",\"Metro\",\"Mini\",\"Montego\"],\n",
    "                 \"BMW\": ['i3', 'i4', 'i5', 'i7', 'i8', 'i8 Roadster', 'i3s', 'iX', 'iX1', 'iX2', 'iX3', 'M1', 'M2', 'M3', 'M4', 'M5', 'M6', 'M8', 'Rad 1', 'Rad 2', 'Rad 3', \n",
    "                         'Rad 4', 'Rad 5', 'Rad 6', 'Rad 7', 'Rad 8', 'X1', 'X2', 'X3', 'X4', 'X5', 'X6', 'X7', 'XM', 'X3 M','X4 M','X5 M','X6 M', 'Z3', 'Z4','Z8'],\n",
    "                 \"Bentley\":[\"Arnage\",\"Azure\",\"Bentayga\",\"Brooklands\",\"Continental\",\"Continental Flying Spur\",\"Continental GT Speed\",\"Continental GTC\",\"Continental R\",\"Mulsanne\",\"Turbo RT\"],\n",
    "                 \"Cadillac\":[\"ATS\",\"BLS\",\"Brougham\",\"CT6\",\"CTS\",\"Deville\",\"Eldorado\",\"Escalade\",\"Fleetwood\",\"Seville\",\"SRX\",\"STS\",\"XLR\",\"XT5\"],\n",
    "                 \"Chrysler\":[\"180\",\"200\",\"300 C\",\"300 M\",\"Aspen\",\"Concorde\",\"Conquest\",\"Crossfire\",\"Daytona\",\"Eagle\",\"Grand Voyager\",\"GTS\",\"Intrepid\",\"Le Baron\",\"LHS\",\"Neon\",\"New Yorker\",\"Pacifica\",\"Plymouth\",\"PT Cruiser\",\"Saratoga\",\"Sebring\",\"Simca\",\"Stratus\",\"Town & Country\",\"Viper\",\"Vision\",\"Voyager\"],\n",
    "                 \"Citroën\":['AX', 'Berlingo', 'BX', 'C1', 'C2', 'C3', 'C4', 'C4 X', 'C5', 'C5 X', 'C6', 'C8', 'C15', 'C25', 'C-Crosser', 'C-Elysée', 'C-Zero', 'CX', 'DS3', 'DS4', 'DS5', 'Evasion',\n",
    "                            'Jumper', 'Jumpy', 'Nemo', 'Saxo', 'Spacetourer', 'Visa', 'Xantia', 'XM', 'Xsara', 'ZX'] ,\n",
    "                 \"Cupra\":['Ateca', 'Born', 'Formentor', 'Cupra Leon'],\n",
    "                 \"DS\":['6', '3', '3 CROSSBACK', '4 CROSSBACK', '4', '5', '7', '7 CROSSBACK', '9'],\n",
    "                 \"Dacia\": ['1300', '1302', '1304', '1305', '1307', '1309', '1310', '1410', 'Dokker', 'Dokker Van', 'Double Cab', 'Duster', 'Jogger', 'Lodgy', 'Logan', 'Logan MCV', 'Logan Pick-up', 'Logan Van', 'Nova', 'Pick-up', 'Sandero', 'Solenza', 'Spring', 'SuperNova'],\n",
    "                 \"Daewoo\": ['Espero', 'Evanda', 'FSO Truck', 'Chairman', 'Kalos', 'Korando', 'Lacetti', 'Lanos', 'Leganza', 'Lublin', 'Matiz', 'Musso', 'Nexia', 'Nubira', 'Prince', 'Racer', 'Tacuma', 'Tico'],\n",
    "                 \"Daihatsu\": ['Applause', 'Copen', 'Cuore', 'Feroza', 'Gran Move', 'Hijet', 'Charade', 'Materia', 'Move', 'Rocky', 'Sirion', 'Taft', 'Terios', 'Trevis', 'YRV'],\n",
    "                 \"Dodge\": ['Avenger', 'Caliber', 'Caravan', 'Dakota', 'Daytona', 'Durango', 'Dynasty', 'Grand Caravan', 'Challenger', 'Charger', 'Intrepid', 'Journey', 'Magnum', 'Neon', 'Nitro', 'RAM', 'Shadow', 'Spirit', 'SRT-4', 'Stealth', 'Stratus', 'Viper'],\n",
    "                 \"Dongfeng\": ['Fengon 5', 'DF 6', 'Fengon 7', 'Glory 580', 'Forthing T5 EVO', 'Glory 500', 'Seres 3', 'Shine', 'Shine E1', 'Shine E3', 'Seres SF5', 'T5 EVO EV', 'U-TOUR', 'Forthing U-Tour'],\n",
    "                 \"Ferrari\": ['106', '296', '308', '328', '348', '360', '400', '430', '456', '458', '488', '550', '575', '599', '612 Scaglietti', '812 Superfast',\n",
    "                             'California', 'Enzo', 'F12 berlinetta', 'F 40', 'F550', 'F 355', 'F 430', 'F8 Spider', 'F 430 Spider', 'FF', 'FXX', 'GTC4 Lusso',\n",
    "                             'GTS', 'Challenge', 'LaFerrari', 'Maranello', 'Mondial', 'Superamerica', 'SF90', 'Testarossa', 'Portofino', 'Roma', 'F8 Tributo'],\n",
    "                 \"Fiat\": ['500e', '124 Spider', '125', '126', '127', '128', '131', '500', '500L', '500X', '600', '650E', '850', '1100', 'Albea', 'Barchetta', 'Brava', 'Bravo', 'Campagnola', 'Cinquecento',\n",
    "                          'Coupé', 'Croma', 'Dobló', 'Ducato', 'Dolcevita', 'Duna', 'Elba Innocenti', 'Fiorino', 'Freemont', 'Fullback', 'Grande Punto', 'Idea', 'Linea', 'Marea', 'Marengo', 'Mirafiori',\n",
    "                          'Multipla', 'Palio', 'Panda', 'Punto', 'Qubo', 'Regata', 'Ritmo', 'Scudo', 'Sedici', 'Seicento', 'Stilo', 'Strada', 'Talento', 'Tempra', 'Tipo', 'Ulysse', 'Uno', 'X1/9'],\n",
    "                 \"Ford\": ['Aerostar', 'B-Max', 'Bronco', 'C-Max', 'Capri', 'Cortina', 'Cougar', 'Courier', 'Econoline', 'EcoSport', 'Edge', 'Escape', 'Escort', 'Everest', 'Excursion', 'Expedition', 'Explorer', 'F-100', 'F-150', 'F-250', 'F350',\n",
    "                          'Festiva', 'Fiesta', 'Five Hundred', 'Flex', 'Focus', 'Freestyle', 'FT 350', 'Fusion', 'Galaxy', 'Giotti Van', 'Granada', 'Grand C-Max', 'GT', 'Ka', 'Kuga', 'Maverick', 'Mercury', 'Mondeo', 'Mustang', 'Orion', 'Probe', 'Puma',\n",
    "                          'Ranger', 'S-Max', 'Scorpio', 'Shelby Cobra', 'Sierra', 'Sport Ka', 'Street Ka', 'Taunus', 'Taurus', 'Tempo', 'Thunderbird', 'Tourneo', 'Transit', 'Windstar'],\n",
    "                 \"Honda\": ['ZR-V', 'Accord', 'City', 'Civic', 'Concerto', 'CR-V', 'CR-X', 'CR-Z', 'E', 'Element', 'FR-V', 'HR-V', 'Insight', 'Integra', 'Jazz', 'Legend', 'Logo', 'NSX', 'Odyssey', 'Passport', 'Pilot', 'Prelude', 'Ridgeline', 'S2000', 'Shuttle', 'Stream'],\n",
    "                 \"Hummer\": [\"H1\",\"H2\",\"H3\"],\n",
    "                 \"Hyundai\": ['Accent', 'Atos', 'Bayon', 'Coupé', 'Elantra', 'Equus', 'Excel', 'Galloper', 'Genesis', 'Getz', 'Grand Santa Fe', 'Grandeur', 'H1', 'H100', 'H200', 'H 250', 'H 350', 'i10', 'i20', 'i30','i30 Fastback', 'i40', 'Ioniq', \n",
    "                             'ix20', 'ix35', 'ix55', 'Kona', 'Lantra', 'Matrix', 'Palisade', 'Pony', 'S Coupe', 'Santa Fe', 'Santamo', 'Satellite', 'Sonata', 'Sonica', 'Starex', 'Terracan', 'Trajet', 'Tucson', 'Veloster', 'XG', 'Staria'],\n",
    "                 \"Chevrolet\" : [\"Aveo\", \"Camaro\", \"Caprice\", \"Captiva\", \"Corvette\", \"Cruze\", \"Kalos\", \"Lacetti\", \"Malibu\", \"Nubira\", \"Orlando\", \"Silverado\", \"Spark\", \"Suburban\", \"Tahoe\", \"Trax\"],\n",
    "                 \"Infiniti\": [\"FX\", \"QX70\", \"Q30\", \"Q50\", \"Q70\", \"QX\", \"QX50\", \"QX56\", \"QX80\"]  ,\n",
    "                 \"Isuzu\": [\"D-Max\", \"M21\"],\n",
    "                 \"Iveco\": [\"Daily\", \"Massif\"],\n",
    "                 \"Jaguar\": ['Daimler', 'E-Pace', 'F-Pace', 'F-Type', 'I-Pace', 'S-Type', 'Sovereign', 'X-Type', 'X-Type Estate', 'XE', 'XF', 'XJ', 'XJR', 'XJS', 'XK'],\n",
    "                 \"Jeep\": ['CJ', 'Commander', 'Compass', 'Feroza', 'Gladiator', 'Grand Cherokee', 'Avenger', 'Cherokee', 'Liberty', 'Patriot', 'Renegade', 'Sahara', 'Wagoneer', 'Willys', 'Wrangler'],\n",
    "                 \"Kia\": [\"Avella\",\"Besta\",\"Carens\",\"Carnival\",\"Ceed\",\"Cee'd\",\"Cee'd SW\",\"Cerato\",\"Clarus\",\"E-Soul\",\"EV6\",\"EV9\",\"Joice\",\"K7\",\"K9\",\"K 2500\",\"K 2700\",\"K 2900\",\"Magentis\",\"Niro\",\"Opirus\",\"Optima\",\"Optima SW\",\n",
    "                         \"Picanto\",\"Pregio\",\"Pride\",\"Pro Cee'd\",\"Retona\",\"Rio\",\"Rio Combi\",\"Sedona\",\"Sephia\",\"Shuma\",\"Sorento\",\"Soul\",\"Sportage\",\"Stinger\",\"Stonic\",\"Telluride\",\"Venga\",\"XCeed\"],\n",
    "                 \"Lada\": [\"Vesta\", \"Niva\", \"2105\"],\n",
    "                 \"Lamborghini\": [\"Urus\", \"Huracán\", \"Espada\", \"Gallardo\"],\n",
    "                 \"Lancia\": [\"Voyager\", \"Delta\", \"Beta\", \"Thema\"],\n",
    "                 \"Land Rover\": ['109', 'Defender', 'Discovery', 'Freelander', 'Freelander 2', 'G4 Challenge', 'Range Rover', 'Range Rover Evoque', 'Range Rover Sport', 'Range Rover Velar', 'Range Rover Vogue'],\n",
    "                 \"Lexus\": ['CT', 'ES', 'GS', 'GX', 'HS', 'IS', 'IS-F', 'LC', 'LS', 'LX', 'NX', 'RC', 'RX', 'RZ', 'SC', 'UX'],\n",
    "                 \"Lincoln\": [\"Aviator\", \"Continental\", \"Mark\", \"Navigator\"],\n",
    "                 \"MAN\": [\"TGE\"],\n",
    "                 \"Maserati\": ['3200 GT', 'Biturbo', 'Cambiocorsa', 'Coupe', 'Ghibli', 'GranCabrio', 'GranSport', 'GranSport Spyder', 'GranTurismo', 'Quattroporte', 'Shamal', 'Spyder', 'Levante', 'Grecale', 'MC20'],\n",
    "                 \"Maybach\": [\"GLS\"],\n",
    "                 \"Mazda\": ['2', '3', '5', '6', '121', '323', '626', '929', 'B', 'B2500', 'B-Fighter', 'BT', 'CX-3', 'CX-5', 'CX-60', 'CX-7', 'CX-9', 'CX-30', 'Demio', 'E 2000', 'E 2200', 'MPV', 'MX-3', 'MX-5', 'MX-6', 'Premacy',\n",
    "                           'RX 7', 'RX 8', 'Tribute', 'Xedos 6', 'Xedos 9', 'MX-30'],\n",
    "                 \"McLaren\": ['570GT', '570S', '650S', '675LT', 'MP4-12C', '720S', '750S', '765LT', 'Artura'],\n",
    "                 \"Mercedes-Benz\": ['100D', '107', '114', '115', '116', '123', '124', '126', '190', '200', '200 - 300', '206D', '207D', '208D', '208/308', '210', '230 - 300 CE Kupé', '240 D', '250 D', '300', '309D', '310 ', '410D', '412D', '420 - 560 SEC Kupé', \n",
    "                                   '500 - 600 SEC Kupé', '508D', '512D', '601', ' 500 E', '608D', '609D', '611D', '612D', '814D', 'AMG GT', 'A trieda', 'B trieda', 'C trieda', 'Citan', 'CL', 'CLA', 'CLC', 'CLK', 'CLS', 'E trieda', 'EQA', 'EQB', 'EQC',\n",
    "                                   'EQS', 'EQE', 'EQS SUV', 'EQT', 'EQV', 'G trieda', 'GL', 'GLA', 'GLB', 'GLC','GLE', 'GLK', 'GLS', 'M trieda', 'MB 100', 'ML', 'R trieda', 'S trieda', 'SL', 'SLC', 'SLK', 'SLR', 'SLS', 'Sprinter', 'V trieda', 'Vaneo', 'Viano',\n",
    "                                   'Vito', 'W 110', 'W 211', 'Unimog', 'X trieda', 'T trieda'],\n",
    "                 \"Microcar\": ['Bellier', 'JDM', 'Virgo Range', 'M GO', 'DUE'],\n",
    "                 \"Mg\": ['Cyberster', 'EHS', 'F', 'HS', 'Marvel-R', 'MG5', 'MGF', 'MG4', 'Shelby Cobra', 'TF', 'TD', 'ZR', 'ZS', 'ZT'],\n",
    "                 \"Mini\": ['Cabrio', 'Clubman', 'Cooper', 'Cooper S', 'Cooper SD', 'Countryman', 'John Cooper Works', 'One', 'Paceman'],\n",
    "                 \"Mitsubishi\": ['3000 GT', 'ASX', 'Carisma', 'Colt', 'Cordia', 'Eclipse', 'Endeavor', 'FTO', 'Fuso canter', 'Galant', 'Grandis', 'L 200', 'L 300', 'L 400', 'Lancer', 'Mirage', 'Montero', 'Outlander', 'Pajero', 'Precis', 'Santamo',\n",
    "                                'Sapporo', 'Shogun Pinin', 'Sigma', 'Space Gear', 'Space Runner', 'Space Star', 'Space Wagon', 'Starion', 'Tredia', 'i-MiEV'],\n",
    "                 \"Nissan\": ['100 NX', '200 SX', '240 SX', '280 ZX', '300 ZX', '350 Z', '370 Z', 'Almera', 'Altima', 'Ariya', 'Bluebird', 'Cabstar', 'Cube', 'Datsun', 'Double cab', 'ECO', 'Evalia', 'e-NV200', 'Frontier', 'GT-R', 'Cherry', 'Infiniti', \n",
    "                            'Interstar', 'Juke', 'King Cab', 'Kubistar', 'L60', 'Laurel', 'Leaf', 'Maxima', 'Micra', 'Murano', 'Navara', 'Note', 'NP300 Pickup', 'NV200', 'NV400', 'Pathfinder', 'Patrol', 'Pickup', 'Pixo', 'Prairie', 'Primastar', 'Primera', \n",
    "                            'Pulsar', 'Qashqai', 'Quest', 'Rogue', 'Sentra', 'Serena', 'Silvia', 'Skyline', 'Stanza', 'Sunny', 'Terrano', 'Tiida', 'Titan', 'Townstar', 'Trade', 'Urvan', 'Vanette', 'X-Terra', 'X-Trail'],\n",
    "                 \"Opel\": ['Adam', 'Agila', 'Ampera', 'Antara', 'Arena', 'Ascona', 'Astra', 'Calibra', 'Campo', 'Cascada', 'Combo', 'Commodore', 'Corsa', 'Crossland', 'Frontera', 'Grandland', 'GT', 'Insignia', 'Kadett', 'Karl', 'Manta CC', 'Meriva', 'Mokka', \n",
    "                          'Monterey', 'Monza', 'Movano', 'Omega', 'Rekord', 'Senator', 'Signum', 'Sintra', 'Speedster', 'Tigra', 'Rocks-e', 'Vectra', 'Vivaro', 'Zafira'],\n",
    "                 \"Peugeot\": ['106', '107', '108', '205', '206', '207', '208', '301', '305', '306', '307', '308', '309', '405', '406', '407', '408', '505', '508', '605', '607', '806', '807', '1007', '2008', '3008', '4007', '4008', '5008', \n",
    "                             'Bipper', 'Boxer', 'Expert', 'iOn', 'J5', 'LH 320 Boxer', 'Partner', 'Ranch', 'RCZ', 'Rifter', 'Traveller'],\n",
    "                 \"Polestar\": [\"1\",\"2\",\"3\"],\n",
    "                 \"Porsche\": ['356', '718', '911', '911 Carrera Cabrio', '911 Targa', '911 Turbo / GT3', '924', '928', '944', '968', '996', '997', 'Boxster', 'Carrera', 'Cayenne', 'Cayman', 'Macan', 'Panamera', 'Taycan'],\n",
    "                 \"Renault\": ['5', 'Avantime', 'Austral', 'Arkana', 'Alpine', 'Alaskan', 'Captur', 'Clio', 'Espace', 'Express', 'Fluence', 'Fuego', 'Grand Espace', 'Grand Modus', 'Grand Scénic', 'Kadjar', 'Kangoo', 'Koleos', 'Laguna', 'Latitude', 'Mascott',\n",
    "                             'Master','Maxity', 'Mégane', 'Messenger', 'Modus', 'R4', 'R5', 'R8', 'Rafale', 'R9', 'R11', 'R18', 'R19', 'R20', 'R21', 'R25', 'Rapid', 'Safrane', 'Scénic', 'Spider', 'Talisman', 'Thalia', 'Trafic',  'Twingo', 'Twizy',\n",
    "                             'Vel Satis', 'Wind', 'Zoe'],\n",
    "                 \"Rolls Royce\": ['Corniche', 'Ghost', 'Dawn', 'Park Ward', 'Phantom', 'Silver Dawn', 'Silver Seraph', 'Silver Shadow', 'Silver Spirit', 'Silver Spur', 'Touring'],\n",
    "                 \"Saab\": [\"9-3\",\"9-5\",\"9-7X\",\"95\",\"96\",\"99\",\"9000\",\"9000\"],\n",
    "                 \"Seat\": ['Alhambra', 'Altea', 'Arona', 'Arosa', 'Ateca', 'Cordoba', 'Exeo', 'Ibiza','Inca', 'Leon', 'Malaga', 'Marbella', 'Mii', 'Ronda', 'Tarraco', 'Terra', 'Toledo'],\n",
    "                 \"Smart\": [\"Fortwo\", \"Forfour\", \"Roadster\"],\n",
    "                 \"Subaru\": ['1800', 'Ascent', 'Baja', 'BRZ', 'Crosstrek', 'Domingo', 'Forester', 'G3X Justy', 'Impreza', 'Justy', 'Legacy', 'Leone', 'Levorg', 'Libero', 'Outback', 'Solterra', 'SVX', 'Trezia', 'Tribeca', 'Vanille', 'Vivio', 'WRX STI', 'XV'],\n",
    "                 \"Suzuki\": ['Across', 'Aerio', 'Alto', 'Baleno', 'Carry', 'Celerio', 'Forenza', 'Grand Vitara', 'Ignis', 'Jimny', 'Kizashi', 'Liana', 'LJ', 'Maruti', 'Samurai', 'Santana', 'SJ', 'Splash', 'Super Carry', \n",
    "                            'Swace', 'Swift', 'SX4', 'Vitara', 'Wagon R+', 'X90'],\n",
    "                 \"SsangYong\": [\"Actyon\", \"Korando\", \"Kyron\", \"Musso\", \"Rexton\", \"Tivoli\", \"Torres\", \"XLV\"],\n",
    "                 \"Tesla\": ['Model 3', 'Model S', 'Model X', 'Model Y', 'Roadster'],\n",
    "                 \"Toyota\": ['4-Runner', 'Alphard', 'Auris', 'Avalon', 'Avensis', 'Aygo', 'bZ4X', 'C-HR', 'Camry', 'Carina', 'Celica', 'Corolla', 'Cressida', 'Dyna', 'F', 'FJ Cruiser', 'Fortuner', 'GR86', 'GT86', 'Hiace', 'Highlander', 'Hilux', 'HZJ', \n",
    "                            'iQ', 'Land Cruiser', 'Liteace', 'Matrix', 'Mirai', 'MR2', 'Paseo', 'Picnic', 'Previa', 'Prius','Verso', 'Proace','Proace City','Proace City Verso', 'RAV4', 'Reiz', 'Scion XB', 'Sequoia', 'Sienna', 'Starlet', 'Supra', 'Tacoma', 'Tercel', 'Tundra', 'Urban Cruiser', \n",
    "                            'Venza', 'Yaris'],\n",
    "                 \"Volkswagen\": ['ID.BUZZ', 'Amarok', 'Arteon', 'Atlas', 'Beetle', 'Bora', 'Caddy', 'California', 'Caravelle', 'CC', 'Corrado', 'Crafter', 'CrossTouran', 'e-Crafter', 'Eos', 'Fox', 'Golf', 'Grand California', 'Iltis', 'Jetta', 'LT', 'Lupo',\n",
    "                                'Multivan', 'New Beetle', 'Passat', 'Phaeton', 'Polo', 'Routan', 'Scirocco', 'Sharan', 'T2', 'T3', 'T4', 'T5', 'T6', 'T-Roc', 'T-Cross', 'Taro', 'T7', 'Taigo', 'Tiguan', 'Touareg', 'Touran', 'Transporter', 'Up!', 'Vento',\n",
    "                                'ID.3', 'ID.4', 'ID.5', 'ID.7'],\n",
    "                 \"Volvo\": ['EX90', 'EX30', '240', '244', '340', '343', '345', '360', '440', '460', '480', '740', '760', '850', '900', '940', '960', 'C30', 'C40', 'C70', 'S40', 'S60', 'S70', 'S80', 'S90', 'V40', 'V50', 'V60', 'V70', 'V90', 'XC40', 'XC60', 'XC70', 'XC90'],\n",
    "                 \"Škoda\": ['Enyaq', '100', '105', '110', '120', '125', '130', '135', '136', '1000', '1100', '1202', '1203', 'Citigo', 'Enyaq iV', 'Fabia', 'Favorit', 'Felicia', 'Forman', 'Kamiq', 'Karoq', 'Kodiaq', 'Octavia', 'Praktik', 'Rapid',\n",
    "                           'Roomster', 'Scala', 'Superb', 'Yeti'],\n",
    "                }"
   ]
  },
  {
   "cell_type": "code",
   "execution_count": 47,
   "id": "14613d95-c66a-48ca-a489-07b6d6b1a618",
   "metadata": {
    "tags": []
   },
   "outputs": [],
   "source": [
    "# filter brand values by dictionary brands_models\n",
    "cars = cars[cars.Brand.isin(brands_models.keys())]"
   ]
  },
  {
   "cell_type": "markdown",
   "id": "c5ad7d2d-65bf-40e3-a1ed-f42ade7cf665",
   "metadata": {},
   "source": [
    "## 5.2 Models"
   ]
  },
  {
   "cell_type": "code",
   "execution_count": 49,
   "id": "2d3df5e7-a03b-4dd4-8527-c90e893bfc98",
   "metadata": {
    "tags": []
   },
   "outputs": [],
   "source": [
    "import re\n",
    "def model_checking(dataframe, description_column, brand_column, model_column, new_model_column):\n",
    "    \n",
    "    '''\n",
    "    Create a new column that contains valid model values for each car brand.\n",
    "            Parameters:\n",
    "                    dataframe (string): name of dataframe\n",
    "                    description_column (string): name of column that contains car description\n",
    "                    brand_column (string): name of column that contains brand name of car\n",
    "                    model_column (string): name of column that contains model name of car\n",
    "                    new_model_column (string): the name of column that will contain the valid model values                     \n",
    "    '''\n",
    "    \n",
    "    for index, model in dataframe[model_column].items():\n",
    "        \n",
    "        description = dataframe.loc[index, description_column]\n",
    "        \n",
    "        # replace some specific characters or words in description of car\n",
    "        description = description.lower().replace(\"&#\",\"-\").replace(\"&#45;\",\"-\").replace(\"&#39;\",\"-\").replace(\"mercedes\", \"mercedes-benz\").replace(\"cee’d\",\"cee'd\").replace(\"cee´d\",\"cee'd\").replace(\"pro_cee’d\",\"pro cee'd\").replace(\"pro_cee'd\",\"pro cee'd\")\n",
    "        description = description.replace(\"citroen\", \"citroën\").replace(\"třídy\", \"class\").replace(\"třída\", \"class\").replace(\"řada\", \"series\").replace(\"doblo\", \"dobló\").replace(\"megane\", \"mégane\").replace(\"rav 4\", \"rav4\").replace(\"4x4\", \" \")\n",
    "        description = description.replace(\"trieda\", \"Class\").replace(\"Trieda\", \"Class\").replace(\"rad\", \"series\")\n",
    "        \n",
    "        brand = dataframe.loc[index, brand_column]\n",
    "        \n",
    "        model_found = False\n",
    "        \n",
    "        # check provided model value (from model_columns) for a specific brand\n",
    "        # if not found, then check if any of allowed model values for a specific brand can be found in the car description\n",
    "        if model in brands_models[brand]:\n",
    "            model_found = True\n",
    "            dataframe.loc[index, new_model_column] = model\n",
    "        else: \n",
    "            #print(f\"{model} not found\")\n",
    "            for m in brands_models[brand]:\n",
    "                if m.lower() in description:\n",
    "                    model_found = True\n",
    "                    dataframe.loc[index, new_model_column] = m\n",
    "                   \n",
    "        # specific cases\n",
    "        # BMW:\n",
    "        # BMW 435d xDrive Cabrio --> BMW 4 series\n",
    "        if (model_found == False) and (brand.lower() == \"BMW\".lower()):\n",
    "            found = re.search(\"[0-9][0-9][0-9][idLEe]\", description)\n",
    "            if found:\n",
    "                series = found.group(0)[0]\n",
    "                m = f\"{series} series\" \n",
    "                dataframe.loc[index, new_model_column] = m\n",
    "                \n",
    "        # Mercedes-Benz\n",
    "        # MERCEDES-BENZ C 220d kabriolet --> MERCEDES-BENZ C class\n",
    "        # MERCEDES-BENZ Trieda C --> MERCEDES-BENZ C class\n",
    "        if (model_found == False) and (brand.lower() == \"mercedes-benz\".lower()):\n",
    "            \n",
    "            classes = ['A', 'B', 'C', 'E', 'G','M', 'R', 'S','V', 'X', 'T']\n",
    "            for c in classes:\n",
    "                if c.lower() in description.split():\n",
    "                    dataframe.loc[index, new_model_column] = f\"{c} class\"\n",
    "                    break"
   ]
  },
  {
   "cell_type": "code",
   "execution_count": 50,
   "id": "e4a3ba04-4abc-4942-987f-e8f3107d1f94",
   "metadata": {
    "tags": []
   },
   "outputs": [],
   "source": [
    "model_checking(cars, \"Description\", \"Brand\", \"Model\", \"Model_new\")\n",
    "cars.dropna(subset=['Model_new'], axis='index', how='any', inplace=True)\n",
    "cars.drop(columns=['Model'], inplace=True, errors='raise')\n",
    "cars = cars.rename(columns={\"Model_new\": \"Model\"})"
   ]
  },
  {
   "cell_type": "code",
   "execution_count": 51,
   "id": "d49c9f18-6ab2-4b91-9e86-16af4ab10bd8",
   "metadata": {
    "tags": []
   },
   "outputs": [],
   "source": [
    "# reorder columns\n",
    "# drop \"Description\" column\n",
    "cars = cars[[\"Brand\", \"Model\", \"Region\", \"Year\", \"km\", \"Fuel\", \"Engine Volume\", \"Power\", \"Transmission\", \"Bodywork\", \"Drive\", \"Seats\", \"Colour\", \"Price\"]]"
   ]
  },
  {
   "cell_type": "markdown",
   "id": "6dcc4e45-3227-4ee8-b4ad-b7858cb12557",
   "metadata": {},
   "source": [
    "## 5.3 Price"
   ]
  },
  {
   "cell_type": "code",
   "execution_count": 53,
   "id": "a5bcbec9-7123-467f-bd22-5d5950e6f294",
   "metadata": {
    "tags": []
   },
   "outputs": [
    {
     "data": {
      "text/plain": [
       "count         36191.0\n",
       "mean     34694.217374\n",
       "std      39988.327148\n",
       "min             100.0\n",
       "25%           14000.0\n",
       "50%           25390.0\n",
       "75%           43685.0\n",
       "max         3266887.0\n",
       "Name: Price, dtype: Float64"
      ]
     },
     "execution_count": 53,
     "metadata": {},
     "output_type": "execute_result"
    }
   ],
   "source": [
    "cars['Price'].describe()"
   ]
  },
  {
   "cell_type": "markdown",
   "id": "0740e699-12d7-4268-8df6-e19d711b83b1",
   "metadata": {},
   "source": [
    "## 5.4 Year"
   ]
  },
  {
   "cell_type": "code",
   "execution_count": 60,
   "id": "1867e4b2-296c-4631-bfc7-553578f45a73",
   "metadata": {
    "tags": []
   },
   "outputs": [
    {
     "data": {
      "text/plain": [
       "count      36074.0\n",
       "mean     2017.9865\n",
       "std       5.844653\n",
       "min         1920.0\n",
       "25%         2016.0\n",
       "50%         2019.0\n",
       "75%         2022.0\n",
       "max         2024.0\n",
       "Name: Year, dtype: Float64"
      ]
     },
     "execution_count": 60,
     "metadata": {},
     "output_type": "execute_result"
    }
   ],
   "source": [
    "cars['Year'].describe()"
   ]
  },
  {
   "cell_type": "markdown",
   "id": "5f1e9fa4-e2e9-4496-8a59-fe4dd5133dbe",
   "metadata": {},
   "source": [
    "## 5.5 km"
   ]
  },
  {
   "cell_type": "code",
   "execution_count": 62,
   "id": "cddc168a-ebd5-4e6f-9135-be7ef6616d15",
   "metadata": {
    "tags": []
   },
   "outputs": [
    {
     "data": {
      "text/plain": [
       "count          34779.0\n",
       "mean     107131.149516\n",
       "std       92160.136103\n",
       "min               -5.0\n",
       "25%            23000.0\n",
       "50%            93810.0\n",
       "75%           170202.0\n",
       "max          1000000.0\n",
       "Name: km, dtype: Float64"
      ]
     },
     "execution_count": 62,
     "metadata": {},
     "output_type": "execute_result"
    }
   ],
   "source": [
    "cars['km'].describe()"
   ]
  },
  {
   "cell_type": "code",
   "execution_count": 63,
   "id": "9cc2cfa1-6124-42c4-bd2d-c7d2da1d3eef",
   "metadata": {
    "tags": []
   },
   "outputs": [],
   "source": [
    "# replace negative values with pd.NA\n",
    "for i in cars[cars[\"km\"]<0].index:\n",
    "    cars.loc[i,\"km\"] = pd.NA"
   ]
  },
  {
   "cell_type": "markdown",
   "id": "67d7631f-a046-4cf0-9c8b-1991ed074dbc",
   "metadata": {},
   "source": [
    "## 5.6 Engine Volume"
   ]
  },
  {
   "cell_type": "code",
   "execution_count": 65,
   "id": "ad225f41-c556-4518-9077-90f5ae6872f3",
   "metadata": {
    "tags": []
   },
   "outputs": [
    {
     "data": {
      "text/plain": [
       "count      35048.0\n",
       "mean      2.758363\n",
       "std      11.316441\n",
       "min            0.0\n",
       "25%            1.6\n",
       "50%            2.0\n",
       "75%            2.5\n",
       "max          535.0\n",
       "Name: Engine Volume, dtype: Float64"
      ]
     },
     "execution_count": 65,
     "metadata": {},
     "output_type": "execute_result"
    }
   ],
   "source": [
    "cars['Engine Volume'].describe()"
   ]
  },
  {
   "cell_type": "code",
   "execution_count": 66,
   "id": "962e494c-b4c7-407c-87ee-8c299430ffcd",
   "metadata": {
    "tags": []
   },
   "outputs": [],
   "source": [
    "# replace all engine volume values higher than 8 with pd.NA\n",
    "for i in cars[cars['Engine Volume']>8].index:\n",
    "    cars.loc[i,\"Engine Volume\"] = pd.NA"
   ]
  },
  {
   "cell_type": "code",
   "execution_count": 67,
   "id": "db4448a6-9657-469f-9554-a32f0509498b",
   "metadata": {},
   "outputs": [],
   "source": [
    "# if engine volume == 0 for non electric car, set it to pd.NA\n",
    "cars[\"Engine Volume\"] = [pd.NA if (not pd.isnull(volume) and volume == 0 and fuel!=\"Electric\") else volume for volume, fuel in zip(cars['Engine Volume'], cars['Fuel'])]"
   ]
  },
  {
   "cell_type": "markdown",
   "id": "6077d40b-56d4-4f87-a260-064cd99e8bad",
   "metadata": {},
   "source": [
    "## 5.7 Power"
   ]
  },
  {
   "cell_type": "code",
   "execution_count": 69,
   "id": "6f5693d4-46a7-4045-9d8b-a4be3a9e0621",
   "metadata": {
    "tags": []
   },
   "outputs": [
    {
     "data": {
      "text/plain": [
       "count        35939.0\n",
       "mean      217.020006\n",
       "std      5014.488433\n",
       "min              1.0\n",
       "25%            102.0\n",
       "50%            130.0\n",
       "75%            180.0\n",
       "max         726070.0\n",
       "Name: Power, dtype: Float64"
      ]
     },
     "execution_count": 69,
     "metadata": {},
     "output_type": "execute_result"
    }
   ],
   "source": [
    "cars['Power'].describe()"
   ]
  },
  {
   "cell_type": "code",
   "execution_count": 70,
   "id": "58231965-5eae-4570-80a0-100994c7819d",
   "metadata": {
    "tags": []
   },
   "outputs": [],
   "source": [
    "# replace values where power is higher than 960 kW with pd.NA\n",
    "for i in cars[cars['Power']>960].index:\n",
    "    cars.loc[i,\"Power\"] = pd.NA"
   ]
  },
  {
   "cell_type": "markdown",
   "id": "bc884f0e-9deb-4f29-b3f9-4613f204ff49",
   "metadata": {},
   "source": [
    "## 5.8 Transmission"
   ]
  },
  {
   "cell_type": "code",
   "execution_count": 72,
   "id": "dcbcec7c-6c17-4e55-93b1-0a62f7e4db6c",
   "metadata": {
    "tags": []
   },
   "outputs": [
    {
     "data": {
      "text/plain": [
       "Transmission\n",
       "automatic    24963\n",
       "manual        9857\n",
       "NaN           1338\n",
       "3073            25\n",
       "3074             8\n",
       "Name: count, dtype: int64"
      ]
     },
     "execution_count": 72,
     "metadata": {},
     "output_type": "execute_result"
    }
   ],
   "source": [
    "cars['Transmission'].value_counts(dropna=False)"
   ]
  },
  {
   "cell_type": "code",
   "execution_count": 73,
   "id": "b909677b-dc83-4f2b-95c9-f04af59a1f3b",
   "metadata": {
    "tags": []
   },
   "outputs": [],
   "source": [
    "cars[\"Transmission\"]=cars[\"Transmission\"].replace(to_replace=r'3.*', value=np.nan,regex=True)"
   ]
  },
  {
   "cell_type": "markdown",
   "id": "f4d5844d-894c-4b68-b939-d35d53895e4a",
   "metadata": {},
   "source": [
    "## 5.9 Bodywork"
   ]
  },
  {
   "cell_type": "code",
   "execution_count": 75,
   "id": "15667a3f-0eb2-436a-8f60-5a3044bb1fbd",
   "metadata": {
    "tags": []
   },
   "outputs": [
    {
     "data": {
      "text/plain": [
       "Bodywork\n",
       "Combi               14287\n",
       "SUV / Off-road       9718\n",
       "Sedan                4158\n",
       "MPV                  1782\n",
       "Coupé                1460\n",
       "Van                  1452\n",
       "Other                 829\n",
       "Sedan / Liftback      828\n",
       "Pick up               696\n",
       "Cabrio                463\n",
       "Limousine             305\n",
       "Liftback              213\n",
       "Name: count, dtype: int64"
      ]
     },
     "execution_count": 75,
     "metadata": {},
     "output_type": "execute_result"
    }
   ],
   "source": [
    "cars['Bodywork'].value_counts(dropna=False)"
   ]
  },
  {
   "cell_type": "code",
   "execution_count": 76,
   "id": "4980b7ab-0316-4458-8d93-65bd6044f0d4",
   "metadata": {
    "tags": []
   },
   "outputs": [],
   "source": [
    "cars[\"Bodywork\"]=cars[\"Bodywork\"].replace(\"Other\", pd.NA)"
   ]
  },
  {
   "cell_type": "markdown",
   "id": "6d3ca817-183e-450a-8818-2a2e9b18cfb8",
   "metadata": {},
   "source": [
    "## 5.10 Drive"
   ]
  },
  {
   "cell_type": "code",
   "execution_count": 78,
   "id": "1a22a690-b3bd-4710-8fc1-2c53d172159d",
   "metadata": {
    "tags": []
   },
   "outputs": [
    {
     "data": {
      "text/plain": [
       "Drive\n",
       "4x4      16822\n",
       "Front    15208\n",
       "Rear      2389\n",
       "NaN       1715\n",
       "Other       57\n",
       "Name: count, dtype: int64"
      ]
     },
     "execution_count": 78,
     "metadata": {},
     "output_type": "execute_result"
    }
   ],
   "source": [
    "cars['Drive'].value_counts(dropna=False)"
   ]
  },
  {
   "cell_type": "code",
   "execution_count": 79,
   "id": "4b9c7690-3ff2-4f27-8b9e-0dcc431ad0e3",
   "metadata": {},
   "outputs": [],
   "source": [
    "cars[\"Drive\"]=cars[\"Drive\"].replace(\"Other\", np.nan)"
   ]
  },
  {
   "cell_type": "markdown",
   "id": "bf3a13d2-69b3-4c13-8362-eb4397a6bdcb",
   "metadata": {},
   "source": [
    "## 5.11 Seats"
   ]
  },
  {
   "cell_type": "code",
   "execution_count": 81,
   "id": "b627685e-ef21-42e5-ac4d-7c97125cc9cf",
   "metadata": {
    "tags": []
   },
   "outputs": [
    {
     "data": {
      "text/plain": [
       "Seats\n",
       "5       26475\n",
       "<NA>     4486\n",
       "7        1986\n",
       "4        1653\n",
       "3         516\n",
       "2         427\n",
       "6         252\n",
       "8         209\n",
       "9         186\n",
       "10          1\n",
       "Name: count, dtype: Int64"
      ]
     },
     "execution_count": 81,
     "metadata": {},
     "output_type": "execute_result"
    }
   ],
   "source": [
    "cars['Seats'].value_counts(dropna=False)"
   ]
  },
  {
   "cell_type": "markdown",
   "id": "d2cb8f75-1987-4289-aa13-a41ad8946eff",
   "metadata": {},
   "source": [
    "## 5.12 Colour"
   ]
  },
  {
   "cell_type": "code",
   "execution_count": 83,
   "id": "56bb2215-985f-434c-921c-67b82492e98a",
   "metadata": {
    "tags": []
   },
   "outputs": [
    {
     "data": {
      "text/plain": [
       "Colour\n",
       "White            7468\n",
       "Black            7075\n",
       "Grey             7053\n",
       "Blue             3542\n",
       "NaN              3450\n",
       "Silver           2650\n",
       "Red              1996\n",
       "Brown            1135\n",
       "Green             630\n",
       "Orange            281\n",
       "Beige             206\n",
       "Gold              181\n",
       "Yellow            142\n",
       "Blue-Gray         130\n",
       "Greenish Gray      87\n",
       "Blue-Green         68\n",
       "Purple             63\n",
       "Burgundy           30\n",
       "Pink                4\n",
       "Name: count, dtype: int64"
      ]
     },
     "execution_count": 83,
     "metadata": {},
     "output_type": "execute_result"
    }
   ],
   "source": [
    "cars['Colour'].value_counts(dropna=False)"
   ]
  },
  {
   "cell_type": "markdown",
   "id": "63248fb8-8ba6-4bc0-aa9a-c9a35cec5a67",
   "metadata": {},
   "source": [
    "## 5.13 Fuel "
   ]
  },
  {
   "cell_type": "code",
   "execution_count": 85,
   "id": "010611ab-f81b-4097-9877-d788d1387cdc",
   "metadata": {
    "tags": []
   },
   "outputs": [
    {
     "data": {
      "text/plain": [
       "Fuel\n",
       "Diesel               21543\n",
       "Petrol               10884\n",
       "Hybrid                1897\n",
       "Electric              1199\n",
       "LPG + Petrol           301\n",
       "Electric - diesel      220\n",
       "Plug-in hybrid          66\n",
       "CNG                     44\n",
       "NaN                     36\n",
       "Bioetanol                1\n",
       "Name: count, dtype: int64"
      ]
     },
     "execution_count": 85,
     "metadata": {},
     "output_type": "execute_result"
    }
   ],
   "source": [
    "cars['Fuel'].value_counts(dropna=False)"
   ]
  },
  {
   "cell_type": "markdown",
   "id": "dc18382e-0d84-48c0-948c-85770d02fa8f",
   "metadata": {},
   "source": [
    "<a id='imputation'></a>\n",
    "# 6. Missing Values Imputation"
   ]
  },
  {
   "cell_type": "code",
   "execution_count": 153,
   "id": "8e60ea9a-b581-41d8-a4fe-29e3deb4bf4d",
   "metadata": {},
   "outputs": [
    {
     "data": {
      "text/plain": [
       "Brand               0\n",
       "Model               0\n",
       "Region              0\n",
       "Fuel                0\n",
       "Engine Volume       0\n",
       "Power               0\n",
       "Transmission        0\n",
       "Bodywork            0\n",
       "Drive               0\n",
       "Seats               0\n",
       "Colour              0\n",
       "Price               0\n",
       "Year              117\n",
       "km               1415\n",
       "dtype: int64"
      ]
     },
     "execution_count": 153,
     "metadata": {},
     "output_type": "execute_result"
    }
   ],
   "source": [
    "cars.isnull().sum().sort_values(ascending=True)"
   ]
  },
  {
   "cell_type": "markdown",
   "id": "079725b0-3fc6-4b6f-9111-6dd8f56079d2",
   "metadata": {},
   "source": [
    "### Visualize missing values"
   ]
  },
  {
   "cell_type": "code",
   "execution_count": 138,
   "id": "1e879f51-1a65-4f7f-ab3b-d131f97c71c1",
   "metadata": {
    "tags": []
   },
   "outputs": [
    {
     "data": {
      "image/png": "[encoded data removed]",
      "text/plain": [
       "<Figure size 640x480 with 1 Axes>"
      ]
     },
     "metadata": {},
     "output_type": "display_data"
    }
   ],
   "source": [
    "import seaborn as sns\n",
    "sns.heatmap(cars.isnull(), cbar=False)\n",
    "plt.show()"
   ]
  },
  {
   "cell_type": "markdown",
   "id": "31c004f4-68cc-4a4b-bee1-f402aea77814",
   "metadata": {},
   "source": [
    "### Specific case"
   ]
  },
  {
   "cell_type": "code",
   "execution_count": 141,
   "id": "35caa561-ea4c-44b2-9b94-d925760ad3b1",
   "metadata": {},
   "outputs": [],
   "source": [
    "# for all electric cars, set the engine volume to 0 and transmission to automatic (only for missing values)\n",
    "cars[\"Transmission\"] = [\"automatic\" if (fuel==\"Electric\" and pd.isnull(transmission)) else transmission for fuel, transmission in zip(cars['Fuel'], cars['Transmission'])]\n",
    "cars[\"Engine Volume\"] = [0 if (fuel==\"Electric\" and pd.isnull(volume)) else volume for fuel, volume in zip(cars['Fuel'], cars['Engine Volume'])]"
   ]
  },
  {
   "cell_type": "code",
   "execution_count": 143,
   "id": "a3dbec41-6906-4aea-8fb7-53b73405b3cf",
   "metadata": {
    "tags": []
   },
   "outputs": [
    {
     "data": {
      "text/plain": [
       "Brand               0\n",
       "Model               0\n",
       "Region              0\n",
       "Price               0\n",
       "Fuel               36\n",
       "Year              117\n",
       "Power             270\n",
       "Engine Volume     505\n",
       "Bodywork          829\n",
       "Transmission     1199\n",
       "km               1415\n",
       "Drive            1772\n",
       "Colour           3450\n",
       "Seats            4486\n",
       "dtype: int64"
      ]
     },
     "execution_count": 143,
     "metadata": {},
     "output_type": "execute_result"
    }
   ],
   "source": [
    "cars.isnull().sum().sort_values(ascending=True)"
   ]
  },
  {
   "cell_type": "markdown",
   "id": "cd45f383-2342-4db5-a33a-79c8d9400117",
   "metadata": {},
   "source": [
    "<a id='univariate'></a>\n",
    "## 6.1 Univariate imputation"
   ]
  },
  {
   "cell_type": "markdown",
   "id": "4cb72a0d-0a11-4465-83ba-15b37b82b115",
   "metadata": {},
   "source": [
    "### Fuel, Power, Engine Volume, Bodywork, Transmission, Drive, Colour, Seats"
   ]
  },
  {
   "cell_type": "code",
   "execution_count": 147,
   "id": "d055dc6a-b85e-4f0a-b87f-2f10356c4982",
   "metadata": {},
   "outputs": [],
   "source": [
    "# fill in the most frequently occurring type of fuel FOR EACH COUPLE  BRAND - MODEL\n",
    "# if this is not found, then insert GENERAL most frequently occurring type of fuel (MODE OF WHOLE COLUMN)\n",
    "# apply this approach for more columns"
   ]
  },
  {
   "cell_type": "code",
   "execution_count": 149,
   "id": "11ce55a3-f270-4f98-ae31-623a26bbc6e8",
   "metadata": {
    "tags": []
   },
   "outputs": [],
   "source": [
    "for column_name in ['Fuel', 'Power', 'Engine Volume', 'Bodywork', 'Transmission', 'Drive', 'Colour', 'Seats']:\n",
    "    column_mode = cars[column_name].mode()[0]\n",
    "    cars[column_name]=cars.groupby(['Brand','Model'])[column_name].transform(lambda x: x.fillna(column_mode if pd.isnull(x.value_counts(dropna=False).index[0]) else x.value_counts(dropna=False).index[0]))"
   ]
  },
  {
   "cell_type": "code",
   "execution_count": 150,
   "id": "9b24a4fb-1cd9-4d3a-83ed-8866463b91ed",
   "metadata": {
    "tags": []
   },
   "outputs": [
    {
     "data": {
      "text/plain": [
       "Brand               0\n",
       "Model               0\n",
       "Region              0\n",
       "Fuel                0\n",
       "Engine Volume       0\n",
       "Power               0\n",
       "Transmission        0\n",
       "Bodywork            0\n",
       "Drive               0\n",
       "Seats               0\n",
       "Colour              0\n",
       "Price               0\n",
       "Year              117\n",
       "km               1415\n",
       "dtype: int64"
      ]
     },
     "execution_count": 150,
     "metadata": {},
     "output_type": "execute_result"
    }
   ],
   "source": [
    "cars.isnull().sum().sort_values(ascending=True)"
   ]
  },
  {
   "cell_type": "markdown",
   "id": "26a46ec4-b2ed-4a3c-8c83-8f044e4d824c",
   "metadata": {},
   "source": [
    "<a id='multivariate'></a>\n",
    "## 6.2 Multivariate imputation"
   ]
  },
  {
   "cell_type": "markdown",
   "id": "fcf8992c-9a54-47e1-bb7c-e60d83747c26",
   "metadata": {},
   "source": [
    "### Year, km"
   ]
  },
  {
   "cell_type": "code",
   "execution_count": 100,
   "id": "96195c52-f026-4181-81c3-eb57687cddff",
   "metadata": {
    "tags": []
   },
   "outputs": [],
   "source": [
    "cars = cars.reset_index(drop=True)"
   ]
  },
  {
   "cell_type": "markdown",
   "id": "0684ed2d-8a44-4e0d-99a1-ed4b0ee01656",
   "metadata": {
    "tags": []
   },
   "source": [
    "### CatBoostRegressor Grid search"
   ]
  },
  {
   "cell_type": "code",
   "execution_count": 173,
   "id": "cde691f1-9b50-44e1-887f-2b503f461fb5",
   "metadata": {
    "tags": []
   },
   "outputs": [],
   "source": [
    "from sklearn.model_selection import GridSearchCV\n",
    "from catboost import CatBoostRegressor\n",
    "\n",
    "def cat_boost_regressor_grid_search(df, target_col, numerical_cols, categorical_cols, param_grid):\n",
    "    \n",
    "    '''\n",
    "    Perform grid search for CatBoostRegressor estimator.\n",
    "            Parameters:\n",
    "                    df (string): dataframe name\n",
    "                    target_col (string): name of target column\n",
    "                    numerical_cols (list): list of numerical column names of dataframe df\n",
    "                    categorical_cols (list): list of categorical column names of dataframe df\n",
    "                    param_grid (dict): dictionary with parameters names (str) as keys and lists of parameter settings to try as values           \n",
    "            Returns:\n",
    "                    best_params_ (dict): dictionary contains the parameters of the best estimator\n",
    "    '''\n",
    "    \n",
    "    cols = tuple(categorical_cols + numerical_cols)\n",
    "    X = df[df.columns.intersection(cols)].drop(columns=[target_col])\n",
    "    y = df[target_col]\n",
    "    \n",
    "    X_train = X[y.notnull()]\n",
    "    y_train = y[y.notnull()]\n",
    "    X_test = X[y.isnull()]\n",
    "    \n",
    "    # Ensure all categorical columns are treated as strings\n",
    "    for col in categorical_cols:\n",
    "        X_train[col] = X_train[col].astype(str)\n",
    "        X_test[col] = X_test[col].astype(str)\n",
    "\n",
    "    model = CatBoostRegressor(loss_function='RMSE', verbose=0)\n",
    "\n",
    "    grid = GridSearchCV(estimator=model, param_grid = param_grid, cv = 3, n_jobs=-1)\n",
    "    grid.fit(X_train, y_train, cat_features=categorical_cols)\n",
    "    \n",
    "    return grid.best_params_"
   ]
  },
  {
   "cell_type": "code",
   "execution_count": 179,
   "id": "74653542-b661-4cbd-b116-077756f2d154",
   "metadata": {
    "tags": []
   },
   "outputs": [
    {
     "name": "stdout",
     "output_type": "stream",
     "text": [
      "CatBoostRegressor Grid search for column Year\n",
      "Best parameters: {'depth': 6, 'iterations': 500, 'l2_leaf_reg': 1, 'learning_rate': 0.1}\n",
      "-------------------------------------------------\n",
      "CatBoostRegressor Grid search for column km\n",
      "Best parameters: {'depth': 10, 'iterations': 500, 'l2_leaf_reg': 1, 'learning_rate': 0.1}\n"
     ]
    }
   ],
   "source": [
    "numerical_cols = [\"Year\", \"km\", \"Engine Volume\", \"Power\", \"Price\"]\n",
    "categorical_cols = [\"Brand\", \"Model\"]\n",
    "parameters = {'depth' : [6,8,10],\n",
    "              'learning_rate' : [0.01, 0.05, 0.1],\n",
    "              'l2_leaf_reg': [0.2, 0.5, 1],\n",
    "               'iterations': [300, 500]\n",
    "             }\n",
    "\n",
    "year_best_params = cat_boost_regressor_grid_search(df=cars, target_col=\"Year\", numerical_cols=numerical_cols, categorical_cols=categorical_cols, param_grid=parameters)\n",
    "print(\"CatBoostRegressor Grid search for column Year\")\n",
    "print(f\"Best parameters: {year_best_params}\")\n",
    "print(\"-------------------------------------------------\")\n",
    "\n",
    "km_best_params = cat_boost_regressor_grid_search(df=cars, target_col=\"km\", numerical_cols=numerical_cols, categorical_cols=categorical_cols, param_grid=parameters)\n",
    "print(\"CatBoostRegressor Grid search for column km\")\n",
    "print(f\"Best parameters: {km_best_params}\")"
   ]
  },
  {
   "cell_type": "markdown",
   "id": "4e64bb06-7989-403d-b898-0f122b63fa29",
   "metadata": {},
   "source": [
    "### Imputing missing data"
   ]
  },
  {
   "cell_type": "code",
   "execution_count": 182,
   "id": "f33feb84-7372-43fe-b5de-4f86ca403944",
   "metadata": {},
   "outputs": [],
   "source": [
    "def impute_missing_values(df, target_col, numerical_cols, categorical_cols):\n",
    "    \n",
    "    '''\n",
    "    Impute missing values for target column using CatBoostRegressor.\n",
    "            Parameters:\n",
    "                    df (string): dataframe name\n",
    "                    target_col (string): name of target column\n",
    "                    numerical_cols (list): list of numerical column names of dataframe df\n",
    "                    categorical_cols (list): list of categorical column names of dataframe df           \n",
    "            Returns:\n",
    "                    df (dataframe): dataframe with imputed missing values for target column\n",
    "    '''\n",
    "    \n",
    "    cols = tuple(categorical_cols + numerical_cols)\n",
    "    X = df[df.columns.intersection(cols)].drop(columns=[target_col])\n",
    "    y = df[target_col]\n",
    "\n",
    "    X_train = X[y.notnull()]\n",
    "    y_train = y[y.notnull()]\n",
    "    X_test = X[y.isnull()]\n",
    "    \n",
    "    # Ensure all categorical columns are treated as strings\n",
    "    for col in categorical_cols:\n",
    "        X_train[col] = X_train[col].astype(str)\n",
    "        X_test[col] = X_test[col].astype(str)\n",
    "\n",
    "    if target_col == 'Year':\n",
    "        model = CatBoostRegressor(iterations=500, depth=6, l2_leaf_reg= 1, learning_rate=0.1, loss_function='RMSE', verbose=0)\n",
    "    elif target_col == 'km':\n",
    "        model = CatBoostRegressor(iterations=500, depth=10, l2_leaf_reg= 1, learning_rate=0.1, loss_function='RMSE', verbose=0)\n",
    "    \n",
    "    model.fit(X_train, y_train, cat_features=categorical_cols)\n",
    "\n",
    "    y_pred = model.predict(X_test)\n",
    "    \n",
    "    # Define realistic ranges for predictions\n",
    "    if target_col == 'Year':\n",
    "        y_pred = y_pred.round().astype(int).clip(1929,2024)\n",
    "    elif target_col == 'km':\n",
    "        y_pred = y_pred.round().astype(int).clip(0, 1000000)\n",
    "        \n",
    "    # Impute the missing values\n",
    "    df.loc[df[target_col].isnull(), target_col] = y_pred\n",
    "\n",
    "    return df"
   ]
  },
  {
   "cell_type": "code",
   "execution_count": 184,
   "id": "d59c8dc2-6140-4938-92a2-bc8f905809fe",
   "metadata": {
    "tags": []
   },
   "outputs": [],
   "source": [
    "# Impute missing values for \"Year\"\n",
    "cars = impute_missing_values(cars, \"Year\", numerical_cols, categorical_cols)\n",
    "\n",
    "# Impute missing values for \"km\"\n",
    "cars = impute_missing_values(cars, \"km\", numerical_cols, categorical_cols)"
   ]
  },
  {
   "cell_type": "code",
   "execution_count": 186,
   "id": "45a5b70b-bece-49ee-9b06-dd95d6b9b5b4",
   "metadata": {
    "tags": []
   },
   "outputs": [
    {
     "data": {
      "text/plain": [
       "Brand            0\n",
       "Model            0\n",
       "Region           0\n",
       "Year             0\n",
       "km               0\n",
       "Fuel             0\n",
       "Engine Volume    0\n",
       "Power            0\n",
       "Transmission     0\n",
       "Bodywork         0\n",
       "Drive            0\n",
       "Seats            0\n",
       "Colour           0\n",
       "Price            0\n",
       "dtype: int64"
      ]
     },
     "execution_count": 186,
     "metadata": {},
     "output_type": "execute_result"
    }
   ],
   "source": [
    "cars.isnull().sum().sort_values(ascending=True)"
   ]
  },
  {
   "cell_type": "code",
   "execution_count": 189,
   "id": "33cb5863-ddf9-42b7-979d-011037617096",
   "metadata": {},
   "outputs": [],
   "source": [
    "# save to csv\n",
    "cars.to_csv(\"cars.csv\", index=False)"
   ]
  },
  {
   "cell_type": "code",
   "execution_count": null,
   "id": "84597037-e48f-47b9-b448-c2085b5a2076",
   "metadata": {},
   "outputs": [],
   "source": []
  }
 ],
 "metadata": {
  "kernelspec": {
   "display_name": "Python 3 (ipykernel)",
   "language": "python",
   "name": "python3"
  },
  "language_info": {
   "codemirror_mode": {
    "name": "ipython",
    "version": 3
   },
   "file_extension": ".py",
   "mimetype": "text/x-python",
   "name": "python",
   "nbconvert_exporter": "python",
   "pygments_lexer": "ipython3",
   "version": "3.11.8"
  }
 },
 "nbformat": 4,
 "nbformat_minor": 5
}
